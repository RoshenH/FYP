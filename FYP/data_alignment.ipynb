{
 "cells": [
  {
   "cell_type": "code",
   "execution_count": 1,
   "id": "e7ffa275",
   "metadata": {},
   "outputs": [
    {
     "name": "stdout",
     "output_type": "stream",
     "text": [
      "✅ Saved:\n",
      " - X_flux_aligned.npy: (1088, 2000)\n",
      " - X_tabular.npy: (1088, 5)\n",
      " - y.npy: (1088,)\n"
     ]
    }
   ],
   "source": [
    "import numpy as np\n",
    "import pandas as pd\n",
    "from sklearn.preprocessing import StandardScaler\n",
    "\n",
    "# Load raw data\n",
    "flux = np.load(\"flux_sequences.npy\")\n",
    "ids = np.load(\"flux_kepler_ids.npy\")\n",
    "df = pd.read_csv(\"stellar_parameters_filtered.csv\")\n",
    "\n",
    "# Filter rows and map labels\n",
    "df = df[df['kepid'].isin(ids)]\n",
    "label_map = {\"CONFIRMED\": 1, \"FALSE POSITIVE\": 0}\n",
    "df[\"label\"] = df[\"koi_disposition\"].map(label_map).fillna(-1)\n",
    "\n",
    "# Required features\n",
    "features = [\"koi_period\", \"koi_duration\", \"koi_prad\", \"koi_steff\", \"koi_srad\"]\n",
    "df = df.dropna(subset=features)\n",
    "\n",
    "# Align\n",
    "id_to_features = {row['kepid']: row[features].values for _, row in df.iterrows()}\n",
    "id_to_label = {row['kepid']: row['label'] for _, row in df.iterrows()}\n",
    "\n",
    "aligned_flux = []\n",
    "aligned_tabular = []\n",
    "aligned_labels = []\n",
    "\n",
    "for i, kepid in enumerate(ids):\n",
    "    if kepid in id_to_features:\n",
    "        aligned_flux.append(flux[i])\n",
    "        aligned_tabular.append(id_to_features[kepid])\n",
    "        aligned_labels.append(id_to_label.get(kepid, -1))\n",
    "\n",
    "X_flux = np.array(aligned_flux)\n",
    "X_flux = (X_flux - X_flux.mean(axis=1, keepdims=True)) / (X_flux.std(axis=1, keepdims=True) + 1e-8)\n",
    "X_tabular_raw = np.array(aligned_tabular)\n",
    "y = np.array(aligned_labels).astype(int)\n",
    "\n",
    "# Scale tabular\n",
    "scaler = StandardScaler()\n",
    "X_tabular = scaler.fit_transform(X_tabular_raw)\n",
    "\n",
    "# Save all npy files\n",
    "np.save(\"X_flux_aligned.npy\", X_flux)\n",
    "np.save(\"X_tabular.npy\", X_tabular)\n",
    "np.save(\"y.npy\", y)\n",
    "\n",
    "print(\"✅ Saved:\")\n",
    "print(\" - X_flux_aligned.npy:\", X_flux.shape)\n",
    "print(\" - X_tabular.npy:\", X_tabular.shape)\n",
    "print(\" - y.npy:\", y.shape)\n"
   ]
  },
  {
   "cell_type": "code",
   "execution_count": 15,
   "id": "28c2a615",
   "metadata": {},
   "outputs": [
    {
     "name": "stdout",
     "output_type": "stream",
     "text": [
      "(array([-1,  0,  1]), array([259, 632, 197], dtype=int64))\n"
     ]
    }
   ],
   "source": [
    "import numpy as np\n",
    "y = np.load(\"y.npy\")\n",
    "print(np.unique(y, return_counts=True))\n"
   ]
  }
 ],
 "metadata": {
  "kernelspec": {
   "display_name": "Python 3",
   "language": "python",
   "name": "python3"
  },
  "language_info": {
   "codemirror_mode": {
    "name": "ipython",
    "version": 3
   },
   "file_extension": ".py",
   "mimetype": "text/x-python",
   "name": "python",
   "nbconvert_exporter": "python",
   "pygments_lexer": "ipython3",
   "version": "3.11.4"
  }
 },
 "nbformat": 4,
 "nbformat_minor": 5
}
